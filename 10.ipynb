{
 "cells": [
  {
   "attachments": {},
   "cell_type": "markdown",
   "metadata": {},
   "source": [
    "--- Day 10: Cathode-Ray Tube ---\n",
    "\n",
    "https://adventofcode.com/2022/day/10\n"
   ]
  },
  {
   "cell_type": "code",
   "execution_count": 114,
   "metadata": {},
   "outputs": [
    {
     "name": "stdout",
     "output_type": "stream",
     "text": [
      "answer: 15360\n"
     ]
    }
   ],
   "source": [
    "input = open('10.txt').read().split('\\n')\n",
    "\n",
    "signal_strengths = []\n",
    "cycles_for_calc_signal_strength = list(range(20, 260, 40))\n",
    "\n",
    "\n",
    "def calc_signal_strength(current_cycle, x):\n",
    "    if len(cycles_for_calc_signal_strength) > 0:\n",
    "        cycle_to_calc = cycles_for_calc_signal_strength[0]\n",
    "\n",
    "        if current_cycle == cycle_to_calc:\n",
    "            signal_strengths.append(current_cycle * x)\n",
    "            cycles_for_calc_signal_strength.pop(0)\n",
    "\n",
    "\n",
    "NOOP = 'noop'\n",
    "ADDX = 'addx'\n",
    "clock_circuit = {ADDX: 2, NOOP: 1}\n",
    "\n",
    "\n",
    "x = 1\n",
    "current_cycle = 1\n",
    "for line in input:\n",
    "    instruction = line.split()\n",
    "\n",
    "    if instruction[0] == NOOP:\n",
    "        calc_signal_strength(current_cycle, x)\n",
    "        current_cycle += 1\n",
    "    else:\n",
    "        V = int(instruction[1])\n",
    "\n",
    "        for cycle in range(1, clock_circuit[ADDX] + 1):\n",
    "            calc_signal_strength(current_cycle, x)\n",
    "            current_cycle += 1\n",
    "\n",
    "            if cycle == 2:\n",
    "                x += V\n",
    "\n",
    "print('answer:', sum(signal_strengths))\n"
   ]
  }
 ],
 "metadata": {
  "kernelspec": {
   "display_name": "Python 3",
   "language": "python",
   "name": "python3"
  },
  "language_info": {
   "codemirror_mode": {
    "name": "ipython",
    "version": 3
   },
   "file_extension": ".py",
   "mimetype": "text/x-python",
   "name": "python",
   "nbconvert_exporter": "python",
   "pygments_lexer": "ipython3",
   "version": "3.10.8"
  },
  "orig_nbformat": 4,
  "vscode": {
   "interpreter": {
    "hash": "b0fa6594d8f4cbf19f97940f81e996739fb7646882a419484c72d19e05852a7e"
   }
  }
 },
 "nbformat": 4,
 "nbformat_minor": 2
}
