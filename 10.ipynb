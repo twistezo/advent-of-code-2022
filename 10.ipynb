{
 "cells": [
  {
   "attachments": {},
   "cell_type": "markdown",
   "metadata": {},
   "source": [
    "--- Day 10: Cathode-Ray Tube ---\n",
    "\n",
    "https://adventofcode.com/2022/day/10\n"
   ]
  },
  {
   "cell_type": "code",
   "execution_count": 437,
   "metadata": {},
   "outputs": [
    {
     "name": "stdout",
     "output_type": "stream",
     "text": [
      "answer: 15360\n"
     ]
    }
   ],
   "source": [
    "input = open('10.txt').read().split('\\n')\n",
    "\n",
    "signal_strengths = []\n",
    "cycles_for_calc_signal_strength = list(range(20, 260, 40))\n",
    "\n",
    "\n",
    "def calc_signal_strength(current_cycle, x):\n",
    "    if len(cycles_for_calc_signal_strength) > 0:\n",
    "        cycle_to_calc = cycles_for_calc_signal_strength[0]\n",
    "\n",
    "        if current_cycle == cycle_to_calc:\n",
    "            signal_strengths.append(current_cycle * x)\n",
    "            cycles_for_calc_signal_strength.pop(0)\n",
    "\n",
    "\n",
    "NOOP = 'noop'\n",
    "ADDX = 'addx'\n",
    "clock_circuit = {ADDX: 2, NOOP: 1}\n",
    "\n",
    "crt = [['.'] * 40 for i in range(6)]\n",
    "\n",
    "\n",
    "x = 1\n",
    "cycle = 1\n",
    "sprite_pos = [0, 1, 2]\n",
    "\n",
    "for line in input:\n",
    "    instruction = line.split()\n",
    "\n",
    "    if instruction[0] == NOOP:\n",
    "        calc_signal_strength(cycle, x)\n",
    "        draw_pixel(cycle, x)\n",
    "\n",
    "        cycle += 1\n",
    "    else:\n",
    "        v = int(instruction[1])\n",
    "\n",
    "        for local_cycle in range(1, clock_circuit[ADDX] + 1):\n",
    "            calc_signal_strength(cycle, x)\n",
    "            draw_pixel(cycle, x)\n",
    "\n",
    "            if local_cycle == 2:\n",
    "                x += v\n",
    "                sprite_pos = [x-1, x, x+1]\n",
    "            cycle += 1\n",
    "\n",
    "\n",
    "print('answer:', sum(signal_strengths))\n"
   ]
  },
  {
   "cell_type": "code",
   "execution_count": 438,
   "metadata": {},
   "outputs": [
    {
     "name": "stdout",
     "output_type": "stream",
     "text": [
      "###..#..#.#....#..#...##..##..####..##..\n",
      "#..#.#..#.#....#..#....#.#..#....#.#..#.\n",
      "#..#.####.#....####....#.#......#..#..#.\n",
      "###..#..#.#....#..#....#.#.##..#...####.\n",
      "#....#..#.#....#..#.#..#.#..#.#....#..#.\n",
      "#....#..#.####.#..#..##...###.####.#..#.\n",
      "answer: PHLHJGZA\n"
     ]
    }
   ],
   "source": [
    "def draw_pixel(cycle, x):\n",
    "    crt_row = 0\n",
    "    if cycle > 40 and cycle < 81:\n",
    "        crt_row = 1\n",
    "        cycle -= 40\n",
    "    elif cycle > 80 and cycle < 121:\n",
    "        crt_row = 2\n",
    "        cycle -= 80\n",
    "    elif cycle > 120 and cycle < 161:\n",
    "        crt_row = 3\n",
    "        cycle -= 120\n",
    "    elif cycle > 160 and cycle < 201:\n",
    "        crt_row = 4\n",
    "        cycle -= 160\n",
    "    elif cycle > 200:\n",
    "        crt_row = 5\n",
    "        cycle -= 200\n",
    "\n",
    "    if cycle - 1 in sprite_pos:\n",
    "        crt[crt_row][cycle - 1] = '#'\n",
    "\n",
    "\n",
    "for row in crt:\n",
    "    print(''.join(row))\n",
    "print('answer: PHLHJGZA')\n"
   ]
  }
 ],
 "metadata": {
  "kernelspec": {
   "display_name": "Python 3",
   "language": "python",
   "name": "python3"
  },
  "language_info": {
   "codemirror_mode": {
    "name": "ipython",
    "version": 3
   },
   "file_extension": ".py",
   "mimetype": "text/x-python",
   "name": "python",
   "nbconvert_exporter": "python",
   "pygments_lexer": "ipython3",
   "version": "3.10.8"
  },
  "orig_nbformat": 4,
  "vscode": {
   "interpreter": {
    "hash": "b0fa6594d8f4cbf19f97940f81e996739fb7646882a419484c72d19e05852a7e"
   }
  }
 },
 "nbformat": 4,
 "nbformat_minor": 2
}
