{
 "cells": [
  {
   "attachments": {},
   "cell_type": "markdown",
   "metadata": {},
   "source": [
    "--- Day 3: Rucksack Reorganization ---\n",
    "\n",
    "https://adventofcode.com/2022/day/3\n"
   ]
  },
  {
   "cell_type": "code",
   "execution_count": 82,
   "metadata": {},
   "outputs": [
    {
     "name": "stdout",
     "output_type": "stream",
     "text": [
      "answer: 8053\n"
     ]
    }
   ],
   "source": [
    "import string\n",
    "\n",
    "input = open('3.txt').read().split('\\n')\n",
    "\n",
    "\n",
    "def calc_priority(letter):\n",
    "    alphabet = string.ascii_lowercase + string.ascii_uppercase\n",
    "    return alphabet.index(list(repeated_item)[0]) + 1\n",
    "\n",
    "\n",
    "priorities_sum = 0\n",
    "for rucksack in input:\n",
    "    half_capacity = int(len(rucksack) / 2)\n",
    "    compartment_one = rucksack[:half_capacity]\n",
    "    compartment_two = rucksack[half_capacity:]\n",
    "\n",
    "    repeated_item = set(compartment_one).intersection(compartment_two)\n",
    "    priorities_sum += calc_priority(repeated_item)\n",
    "\n",
    "print(\"answer:\", priorities_sum)\n"
   ]
  },
  {
   "cell_type": "code",
   "execution_count": 83,
   "metadata": {},
   "outputs": [
    {
     "name": "stdout",
     "output_type": "stream",
     "text": [
      "answer: 2425\n"
     ]
    }
   ],
   "source": [
    "def chunks(list, n):\n",
    "    for i in range(0, len(list), n):\n",
    "        yield list[i:i + n]\n",
    "\n",
    "\n",
    "groups = list(chunks(input, 3))\n",
    "\n",
    "priorities_sum = 0\n",
    "for group in groups:\n",
    "    repeated_item = set.intersection(*map(set, group))\n",
    "    priorities_sum += calc_priority(repeated_item)\n",
    "\n",
    "print(\"answer:\", priorities_sum)\n"
   ]
  }
 ],
 "metadata": {
  "kernelspec": {
   "display_name": "Python 3",
   "language": "python",
   "name": "python3"
  },
  "language_info": {
   "codemirror_mode": {
    "name": "ipython",
    "version": 3
   },
   "file_extension": ".py",
   "mimetype": "text/x-python",
   "name": "python",
   "nbconvert_exporter": "python",
   "pygments_lexer": "ipython3",
   "version": "3.10.8"
  },
  "orig_nbformat": 4,
  "vscode": {
   "interpreter": {
    "hash": "b0fa6594d8f4cbf19f97940f81e996739fb7646882a419484c72d19e05852a7e"
   }
  }
 },
 "nbformat": 4,
 "nbformat_minor": 2
}
