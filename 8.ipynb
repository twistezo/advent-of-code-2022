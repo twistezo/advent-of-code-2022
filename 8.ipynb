{
 "cells": [
  {
   "attachments": {},
   "cell_type": "markdown",
   "metadata": {},
   "source": [
    "--- Day 8: Treetop Tree House ---\n",
    "\n",
    "https://adventofcode.com/2022/day/8\n"
   ]
  },
  {
   "cell_type": "code",
   "execution_count": 383,
   "metadata": {},
   "outputs": [
    {
     "name": "stdout",
     "output_type": "stream",
     "text": [
      "answer: 21\n"
     ]
    }
   ],
   "source": [
    "import numpy as np\n",
    "\n",
    "input = open('8.txt').read().split('\\n')\n",
    "\n",
    "\n",
    "def get_tree_and_cross_view(grid):\n",
    "    return [\n",
    "        grid[iy, ix],  # tree\n",
    "        grid[iy, :ix],  # left\n",
    "        grid[iy, ix+1:],  # right\n",
    "        grid[:iy, ix],  # up\n",
    "        grid[iy+1:, ix]  # down\n",
    "    ]\n",
    "\n",
    "\n",
    "def all_shorter_around(tree, direction):\n",
    "    return all(x < tree for x in direction)\n",
    "\n",
    "\n",
    "grid = np.array([[int(y) for y in x] for x in input])\n",
    "\n",
    "visible_trees = 0\n",
    "for iy, ix in np.ndindex(grid.shape):\n",
    "    tree, left, right, up, down = get_tree_and_cross_view(grid)\n",
    "\n",
    "    is_tree_visible = all_shorter_around(tree, left) | all_shorter_around(\n",
    "        tree, right) | all_shorter_around(tree, up) | all_shorter_around(tree, down)\n",
    "\n",
    "    if is_tree_visible:\n",
    "        visible_trees += 1\n",
    "\n",
    "print('answer:', visible_trees)\n"
   ]
  },
  {
   "cell_type": "code",
   "execution_count": 385,
   "metadata": {},
   "outputs": [
    {
     "name": "stdout",
     "output_type": "stream",
     "text": [
      "tree 6\n",
      "left [6, 6]\n",
      "blocking index 0\n",
      "slice_of_view []\n",
      "\n",
      "\n",
      "tree 3\n",
      "left [6, 6, 6]\n",
      "blocking index 0\n",
      "slice_of_view []\n",
      "\n",
      "\n"
     ]
    }
   ],
   "source": [
    "def no_trees_from(direction):\n",
    "    return len(direction) == 0\n",
    "\n",
    "\n",
    "scenic_scores = []\n",
    "for iy, ix in np.ndindex(grid.shape):\n",
    "    if iy == 2 & ix == 2:\n",
    "        scenic_score = 0\n",
    "        tree, left, right, up, down = get_tree_and_cross_view(grid)\n",
    "        print('tree', tree)\n",
    "        left_reversed = list(reversed(left))\n",
    "        print('left', left_reversed)\n",
    "        # print('up', up)\n",
    "        # print('down', down)\n",
    "\n",
    "        blocking_tree_index = -99\n",
    "        for i, x in enumerate(left_reversed):\n",
    "            if x >= tree:\n",
    "                blocking_tree_index = i\n",
    "                break\n",
    "\n",
    "        print('blocking index', blocking_tree_index)\n",
    "        slice_of_view = left_reversed[:blocking_tree_index]\n",
    "        print('slice_of_view', slice_of_view)\n",
    "\n",
    "        print()\n"
   ]
  }
 ],
 "metadata": {
  "kernelspec": {
   "display_name": "Python 3",
   "language": "python",
   "name": "python3"
  },
  "language_info": {
   "codemirror_mode": {
    "name": "ipython",
    "version": 3
   },
   "file_extension": ".py",
   "mimetype": "text/x-python",
   "name": "python",
   "nbconvert_exporter": "python",
   "pygments_lexer": "ipython3",
   "version": "3.10.8"
  },
  "orig_nbformat": 4,
  "vscode": {
   "interpreter": {
    "hash": "b0fa6594d8f4cbf19f97940f81e996739fb7646882a419484c72d19e05852a7e"
   }
  }
 },
 "nbformat": 4,
 "nbformat_minor": 2
}
