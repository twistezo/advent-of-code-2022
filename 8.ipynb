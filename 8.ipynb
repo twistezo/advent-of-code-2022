{
 "cells": [
  {
   "attachments": {},
   "cell_type": "markdown",
   "metadata": {},
   "source": [
    "--- Day 8: Treetop Tree House ---\n",
    "\n",
    "https://adventofcode.com/2022/day/8\n"
   ]
  },
  {
   "cell_type": "code",
   "execution_count": 557,
   "metadata": {},
   "outputs": [
    {
     "name": "stdout",
     "output_type": "stream",
     "text": [
      "answer: 1662\n"
     ]
    }
   ],
   "source": [
    "import numpy as np\n",
    "\n",
    "input = open('8.txt').read().split('\\n')\n",
    "\n",
    "\n",
    "def get_tree_and_cross_view(grid):\n",
    "    return [\n",
    "        grid[iy, ix],  # tree\n",
    "        grid[iy, :ix],  # left\n",
    "        grid[iy, ix+1:],  # right\n",
    "        grid[:iy, ix],  # up\n",
    "        grid[iy+1:, ix]  # down\n",
    "    ]\n",
    "\n",
    "\n",
    "def all_shorter_around(tree, direction):\n",
    "    return all(x < tree for x in direction)\n",
    "\n",
    "\n",
    "grid = np.array([[int(y) for y in x] for x in input])\n",
    "\n",
    "visible_trees = 0\n",
    "for iy, ix in np.ndindex(grid.shape):\n",
    "    tree, left, right, up, down = get_tree_and_cross_view(grid)\n",
    "\n",
    "    is_tree_visible = all_shorter_around(tree, left) | all_shorter_around(\n",
    "        tree, right) | all_shorter_around(tree, up) | all_shorter_around(tree, down)\n",
    "\n",
    "    if is_tree_visible:\n",
    "        visible_trees += 1\n",
    "\n",
    "print('answer:', visible_trees)\n"
   ]
  },
  {
   "cell_type": "code",
   "execution_count": 558,
   "metadata": {},
   "outputs": [
    {
     "name": "stdout",
     "output_type": "stream",
     "text": [
      "answer: 537600\n"
     ]
    }
   ],
   "source": [
    "def visible_tres_on(side):\n",
    "    visible_trees = []\n",
    "    for i, x in enumerate(side):\n",
    "        visible_trees.append(x)\n",
    "\n",
    "        if x >= tree:\n",
    "            break\n",
    "\n",
    "    return len(visible_trees)\n",
    "\n",
    "\n",
    "scenic_scores = []\n",
    "for iy, ix in np.ndindex(grid.shape):\n",
    "    tree, left, right, up, down = get_tree_and_cross_view(grid)\n",
    "\n",
    "    trees_on_left = visible_tres_on(list(reversed(left)))\n",
    "    trees_on_right = visible_tres_on(right)\n",
    "    trees_on_up = visible_tres_on(list(reversed(up)))\n",
    "    trees_on_down = visible_tres_on(down)\n",
    "\n",
    "    scenic_scores.append(\n",
    "        trees_on_left *\n",
    "        trees_on_right *\n",
    "        trees_on_up *\n",
    "        trees_on_down\n",
    "    )\n",
    "\n",
    "print('answer:', max(scenic_scores))\n"
   ]
  }
 ],
 "metadata": {
  "kernelspec": {
   "display_name": "Python 3",
   "language": "python",
   "name": "python3"
  },
  "language_info": {
   "codemirror_mode": {
    "name": "ipython",
    "version": 3
   },
   "file_extension": ".py",
   "mimetype": "text/x-python",
   "name": "python",
   "nbconvert_exporter": "python",
   "pygments_lexer": "ipython3",
   "version": "3.10.8 (main, Oct 21 2022, 22:22:30) [Clang 14.0.0 (clang-1400.0.29.202)]"
  },
  "orig_nbformat": 4,
  "vscode": {
   "interpreter": {
    "hash": "b0fa6594d8f4cbf19f97940f81e996739fb7646882a419484c72d19e05852a7e"
   }
  }
 },
 "nbformat": 4,
 "nbformat_minor": 2
}
