{
 "cells": [
  {
   "attachments": {},
   "cell_type": "markdown",
   "metadata": {},
   "source": [
    "--- Day 4: Camp Cleanup ---\n",
    "\n",
    "https://adventofcode.com/2022/day/4\n"
   ]
  },
  {
   "cell_type": "code",
   "execution_count": 35,
   "metadata": {},
   "outputs": [
    {
     "name": "stdout",
     "output_type": "stream",
     "text": [
      "answer: 305\n"
     ]
    }
   ],
   "source": [
    "input = open('4.txt').read().split('\\n')\n",
    "\n",
    "\n",
    "def create_range(pair):\n",
    "    return set(range(pair[0], pair[1] + 1))\n",
    "\n",
    "\n",
    "def any_full_overlap(range_a, range_b):\n",
    "    return set((range_a)).issubset(range_b) | set((range_b)).issubset(range_a)\n",
    "\n",
    "\n",
    "def get_pairs(section):\n",
    "    return list(\n",
    "        map(lambda pair: list(map(int, pair.split('-'))), section.split(',')))\n",
    "\n",
    "\n",
    "overlaps = 0\n",
    "for section in input:\n",
    "    pair_a, pair_b = get_pairs(section)\n",
    "    range_a = create_range(pair_a)\n",
    "    range_b = create_range(pair_b)\n",
    "\n",
    "    if any_full_overlap(range_a, range_b):\n",
    "        overlaps += 1\n",
    "\n",
    "print('answer:', overlaps)\n"
   ]
  },
  {
   "cell_type": "code",
   "execution_count": 36,
   "metadata": {},
   "outputs": [
    {
     "name": "stdout",
     "output_type": "stream",
     "text": [
      "answer: 811\n"
     ]
    }
   ],
   "source": [
    "intersections = 0\n",
    "for section in input:\n",
    "    pair_a, pair_b = get_pairs(section)\n",
    "    range_a = create_range(pair_a)\n",
    "    range_b = create_range(pair_b)\n",
    "\n",
    "    if range_a.intersection(range_b):\n",
    "        intersections += 1\n",
    "\n",
    "print('answer:', intersections)\n"
   ]
  }
 ],
 "metadata": {
  "kernelspec": {
   "display_name": "Python 3",
   "language": "python",
   "name": "python3"
  },
  "language_info": {
   "codemirror_mode": {
    "name": "ipython",
    "version": 3
   },
   "file_extension": ".py",
   "mimetype": "text/x-python",
   "name": "python",
   "nbconvert_exporter": "python",
   "pygments_lexer": "ipython3",
   "version": "3.10.8 (main, Oct 21 2022, 22:22:30) [Clang 14.0.0 (clang-1400.0.29.202)]"
  },
  "orig_nbformat": 4,
  "vscode": {
   "interpreter": {
    "hash": "b0fa6594d8f4cbf19f97940f81e996739fb7646882a419484c72d19e05852a7e"
   }
  }
 },
 "nbformat": 4,
 "nbformat_minor": 2
}
