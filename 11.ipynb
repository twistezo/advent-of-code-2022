{
 "cells": [
  {
   "attachments": {},
   "cell_type": "markdown",
   "metadata": {},
   "source": [
    "--- Day 11: Monkey in the Middle ---\n",
    "\n",
    "https://adventofcode.com/2022/day/11\n"
   ]
  },
  {
   "cell_type": "code",
   "execution_count": 101,
   "metadata": {},
   "outputs": [],
   "source": [
    "import math\n",
    "import numpy as np\n",
    "\n",
    "input = list(filter(None, open('11.txt').read().split('\\n')))\n",
    "\n",
    "\n",
    "def chunks(list, n):\n",
    "    for i in range(0, len(list), n):\n",
    "        yield list[i:i + n]\n",
    "\n",
    "\n",
    "def collect_monkeys(input):\n",
    "    monkeys = []\n",
    "    for monkey_data in chunked_input:\n",
    "\n",
    "        temp_monkey = {}\n",
    "        for i, line in enumerate(monkey_data):\n",
    "            if i == 0:\n",
    "                temp_monkey['monkey'] = int(line.split()[1][:-1])\n",
    "            if i == 1:\n",
    "                temp_monkey['worries'] = list(\n",
    "                    map(lambda x: int(x.strip(',')), line.split()[2:]))\n",
    "            if i == 2:\n",
    "                temp_monkey['operation'] = line.split()[3:]\n",
    "            if i == 3:\n",
    "                temp_monkey['test'] = int(line.split()[3:][0])\n",
    "            if i == 4:\n",
    "                temp_monkey['if_true'] = int(line.split()[5:][0])\n",
    "            if i == 5:\n",
    "                temp_monkey['if_false'] = int(line.split()[5:][0])\n",
    "\n",
    "        temp_monkey['counter'] = 0\n",
    "        monkeys.append(temp_monkey)\n",
    "\n",
    "    return monkeys\n",
    "\n",
    "\n",
    "def recalc_worry(monkey, worry_lvl):\n",
    "    operation = monkey['operation']\n",
    "    a = worry_lvl\n",
    "    op_action = operation[1]\n",
    "    b = operation[2]\n",
    "    result = 0\n",
    "\n",
    "    if b == 'old':\n",
    "        b = a\n",
    "    else:\n",
    "        b = int(b)\n",
    "\n",
    "    if op_action == '*':\n",
    "        result = a * b\n",
    "    else:\n",
    "        result = a + b\n",
    "\n",
    "    return result\n",
    "\n",
    "\n",
    "def throw_to_monkey(monkey, worry_lvl):\n",
    "    test_num = monkey['test']\n",
    "    test = worry_lvl % test_num == 0\n",
    "\n",
    "    next_monkey = 0\n",
    "    if test:\n",
    "        next_monkey = monkey['if_true']\n",
    "    else:\n",
    "        next_monkey = monkey['if_false']\n",
    "\n",
    "    return next_monkey\n",
    "\n",
    "\n",
    "def get_top_two_monkeys(monkeys):\n",
    "    return np.prod(\n",
    "        sorted(list(\n",
    "            map(lambda x: x['counter'], monkeys)), reverse=True)[:2]\n",
    "    )\n",
    "\n",
    "\n",
    "def play(monkeys, r, mod):\n",
    "    for i in range(r):\n",
    "        for monkey in monkeys:\n",
    "            for worry_lvl in monkey['worries']:\n",
    "                new_worry_lvl = recalc_worry(monkey, worry_lvl)\n",
    "\n",
    "                if mod == True:\n",
    "                    new_worry_lvl %= mod\n",
    "                else:\n",
    "                    new_worry_lvl //= 3\n",
    "\n",
    "                next_monkey = throw_to_monkey(monkey, new_worry_lvl)\n",
    "                monkey['counter'] += 1\n",
    "                monkeys[next_monkey]['worries'].append(new_worry_lvl)\n",
    "            monkey['worries'] = []\n",
    "\n",
    "\n",
    "chunked_input = list(chunks(input, 6))\n",
    "monkeys = collect_monkeys(chunked_input)\n",
    "\n",
    "play(monkeys, 20, False)\n",
    "\n",
    "print('answer:', get_top_two_monkeys(monkeys))\n"
   ]
  },
  {
   "cell_type": "code",
   "execution_count": 102,
   "metadata": {},
   "outputs": [
    {
     "name": "stdout",
     "output_type": "stream",
     "text": [
      "answer: 14398800024\n"
     ]
    }
   ],
   "source": [
    "chunked_input = list(chunks(input, 6))\n",
    "monkeys = collect_monkeys(chunked_input)\n",
    "mod = np.prod([m['test'] for m in monkeys])\n",
    "\n",
    "play(monkeys, 10_000, True)\n",
    "\n",
    "print('answer:', get_top_two_monkeys(monkeys))\n"
   ]
  }
 ],
 "metadata": {
  "kernelspec": {
   "display_name": "Python 3",
   "language": "python",
   "name": "python3"
  },
  "language_info": {
   "codemirror_mode": {
    "name": "ipython",
    "version": 3
   },
   "file_extension": ".py",
   "mimetype": "text/x-python",
   "name": "python",
   "nbconvert_exporter": "python",
   "pygments_lexer": "ipython3",
   "version": "3.10.8"
  },
  "orig_nbformat": 4,
  "vscode": {
   "interpreter": {
    "hash": "b0fa6594d8f4cbf19f97940f81e996739fb7646882a419484c72d19e05852a7e"
   }
  }
 },
 "nbformat": 4,
 "nbformat_minor": 2
}
