{
 "cells": [
  {
   "attachments": {},
   "cell_type": "markdown",
   "metadata": {},
   "source": [
    "--- Day 1: Calorie Counting ---\n",
    "\n",
    "https://adventofcode.com/2022/day/1\n"
   ]
  },
  {
   "cell_type": "code",
   "execution_count": 1,
   "metadata": {},
   "outputs": [
    {
     "name": "stdout",
     "output_type": "stream",
     "text": [
      "answer: 68802\n"
     ]
    }
   ],
   "source": [
    "input = open('1.txt').read().split('\\n\\n')\n",
    "\n",
    "elfs_calories = []\n",
    "\n",
    "for line in input:\n",
    "    elf_calories_raw = line.split('/n')\n",
    "\n",
    "    for elf_calory_raw in elf_calories_raw:\n",
    "        elf_calories = [*map(int, elf_calory_raw.split('\\n'))]\n",
    "        elfs_calories.append(elf_calories)\n",
    "\n",
    "elfs_calories_sums = [*map(sum, elfs_calories)]\n",
    "\n",
    "print('answer:', max(elfs_calories_sums))\n"
   ]
  },
  {
   "cell_type": "code",
   "execution_count": 2,
   "metadata": {},
   "outputs": [
    {
     "name": "stdout",
     "output_type": "stream",
     "text": [
      "answer: 205370\n"
     ]
    }
   ],
   "source": [
    "best_trio = (sum(sorted(elfs_calories_sums, reverse=True)[:3]))\n",
    "\n",
    "print('answer:', best_trio)\n"
   ]
  }
 ],
 "metadata": {
  "kernelspec": {
   "display_name": "Python 3",
   "language": "python",
   "name": "python3"
  },
  "language_info": {
   "codemirror_mode": {
    "name": "ipython",
    "version": 3
   },
   "file_extension": ".py",
   "mimetype": "text/x-python",
   "name": "python",
   "nbconvert_exporter": "python",
   "pygments_lexer": "ipython3",
   "version": "3.10.8"
  },
  "orig_nbformat": 4,
  "vscode": {
   "interpreter": {
    "hash": "b0fa6594d8f4cbf19f97940f81e996739fb7646882a419484c72d19e05852a7e"
   }
  }
 },
 "nbformat": 4,
 "nbformat_minor": 2
}
