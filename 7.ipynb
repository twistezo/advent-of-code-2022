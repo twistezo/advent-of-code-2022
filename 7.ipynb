{
 "cells": [
  {
   "attachments": {},
   "cell_type": "markdown",
   "metadata": {},
   "source": [
    "--- Day 7: No Space Left On Device ---\n",
    "\n",
    "https://adventofcode.com/2022/day/7\n"
   ]
  },
  {
   "cell_type": "code",
   "execution_count": 46,
   "metadata": {},
   "outputs": [
    {
     "name": "stdout",
     "output_type": "stream",
     "text": [
      "answer: 1086293\n"
     ]
    }
   ],
   "source": [
    "input = open('7.txt').read().split('\\n')\n",
    "\n",
    "\n",
    "def get_curr_dir(line, curr_dir):\n",
    "    if line == '$ cd ..':\n",
    "        curr_dir.pop()\n",
    "    elif line.startswith('$ cd'):\n",
    "        curr_dir.append(line[5:])\n",
    "\n",
    "\n",
    "def calc_dir_size(line, curr_dir, dirs):\n",
    "    size = int(line.split(' ')[0])\n",
    "    path = \"\"\n",
    "    for dir in curr_dir:\n",
    "        path += \"/\" + dir\n",
    "\n",
    "        if not path in dirs:\n",
    "            dirs[path] = 0\n",
    "\n",
    "        dirs[path] += size\n",
    "\n",
    "\n",
    "curr_dir = [\"\"]\n",
    "dirs = dict()\n",
    "for line in input:\n",
    "    if line.startswith('$'):\n",
    "        get_curr_dir(line, curr_dir)\n",
    "    elif not line.startswith('dir '):\n",
    "        calc_dir_size(line, curr_dir, dirs)\n",
    "\n",
    "print('answer:', sum(i for i in dirs.values() if i <= 100_000))\n"
   ]
  },
  {
   "cell_type": "code",
   "execution_count": 59,
   "metadata": {},
   "outputs": [
    {
     "name": "stdout",
     "output_type": "stream",
     "text": [
      "answer: 366028\n"
     ]
    }
   ],
   "source": [
    "root = dirs.get('/')\n",
    "min_free_up_space = root - 7_000_0000 + 3_000_0000\n",
    "\n",
    "print('answer:', min(i for i in dirs.values() if i > min_free_up_space))\n"
   ]
  }
 ],
 "metadata": {
  "kernelspec": {
   "display_name": "Python 3",
   "language": "python",
   "name": "python3"
  },
  "language_info": {
   "codemirror_mode": {
    "name": "ipython",
    "version": 3
   },
   "file_extension": ".py",
   "mimetype": "text/x-python",
   "name": "python",
   "nbconvert_exporter": "python",
   "pygments_lexer": "ipython3",
   "version": "3.10.8"
  },
  "orig_nbformat": 4,
  "vscode": {
   "interpreter": {
    "hash": "b0fa6594d8f4cbf19f97940f81e996739fb7646882a419484c72d19e05852a7e"
   }
  }
 },
 "nbformat": 4,
 "nbformat_minor": 2
}
