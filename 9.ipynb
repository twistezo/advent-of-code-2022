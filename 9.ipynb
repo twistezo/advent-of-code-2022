{
 "cells": [
  {
   "attachments": {},
   "cell_type": "markdown",
   "metadata": {},
   "source": [
    "--- Day 9: Rope Bridge ---\n",
    "\n",
    "https://adventofcode.com/2022/day/9\n"
   ]
  },
  {
   "cell_type": "code",
   "execution_count": 47,
   "metadata": {},
   "outputs": [
    {
     "name": "stdout",
     "output_type": "stream",
     "text": [
      "answer: 6339\n"
     ]
    }
   ],
   "source": [
    "input = open('9.txt').read().split('\\n')\n",
    "\n",
    "\n",
    "def get_motion(direction):\n",
    "    match direction:\n",
    "        case 'L':\n",
    "            return (-1, 0)\n",
    "        case 'R':\n",
    "            return (1, 0)\n",
    "        case 'U':\n",
    "            return (0, 1)\n",
    "        case 'D':\n",
    "            return (0, -1)\n",
    "\n",
    "\n",
    "def head_is_too_far(distance):\n",
    "    return (abs(dist_x) >= 2) or (abs(dist_y) >= 2)\n",
    "\n",
    "\n",
    "def sign(number):\n",
    "    if number < 0:\n",
    "        return -1\n",
    "    elif number == 0:\n",
    "        return 0\n",
    "    else:\n",
    "        return 1\n",
    "\n",
    "\n",
    "head_x, head_y = (0, 0)\n",
    "tail_x, tail_y = (0, 0)\n",
    "visited_by_tail = []\n",
    "\n",
    "\n",
    "for line in input:\n",
    "    direction, steps = line.split(' ')\n",
    "\n",
    "    for _ in range(int(steps)):\n",
    "        motion = get_motion(direction)\n",
    "        head_x += motion[0]\n",
    "        head_y += motion[1]\n",
    "\n",
    "        dist_x = head_x - tail_x\n",
    "        dist_y = head_y - tail_y\n",
    "\n",
    "        if head_is_too_far([dist_x, dist_y]):\n",
    "            tail_x += sign(dist_x)\n",
    "            tail_y += sign(dist_y)\n",
    "\n",
    "        visited_by_tail.append((tail_x, tail_y))\n",
    "\n",
    "print('answer:', len(set(visited_by_tail)))\n"
   ]
  },
  {
   "cell_type": "code",
   "execution_count": 49,
   "metadata": {},
   "outputs": [
    {
     "name": "stdout",
     "output_type": "stream",
     "text": [
      "answer: 2541\n"
     ]
    }
   ],
   "source": [
    "rope = [(0, 0)] * 10\n",
    "visited_by_tail = []\n",
    "\n",
    "\n",
    "for line in input:\n",
    "    direction, steps = line.split(' ')\n",
    "\n",
    "    for _ in range(int(steps)):\n",
    "        motion = get_motion(direction)\n",
    "        head_x, head_y = rope[0]\n",
    "\n",
    "        rope[0] = head_x + motion[0], head_y + motion[1]\n",
    "\n",
    "        for i in range(len(rope) - 1):\n",
    "            head_x, head_y = rope[i]\n",
    "            tail_x, tail_y = rope[i + 1]\n",
    "\n",
    "            dist_x = head_x - tail_x\n",
    "            dist_y = head_y - tail_y\n",
    "\n",
    "            if head_is_too_far([dist_x, dist_y]):\n",
    "                rope[i + 1] = tail_x + sign(dist_x), tail_y + sign(dist_y)\n",
    "\n",
    "        visited_by_tail.append((tail_x, tail_y))\n",
    "\n",
    "print('answer:', len(set(visited_by_tail)))\n"
   ]
  }
 ],
 "metadata": {
  "kernelspec": {
   "display_name": "Python 3",
   "language": "python",
   "name": "python3"
  },
  "language_info": {
   "codemirror_mode": {
    "name": "ipython",
    "version": 3
   },
   "file_extension": ".py",
   "mimetype": "text/x-python",
   "name": "python",
   "nbconvert_exporter": "python",
   "pygments_lexer": "ipython3",
   "version": "3.10.8"
  },
  "orig_nbformat": 4,
  "vscode": {
   "interpreter": {
    "hash": "b0fa6594d8f4cbf19f97940f81e996739fb7646882a419484c72d19e05852a7e"
   }
  }
 },
 "nbformat": 4,
 "nbformat_minor": 2
}
