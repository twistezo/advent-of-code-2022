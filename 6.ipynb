{
 "cells": [
  {
   "attachments": {},
   "cell_type": "markdown",
   "metadata": {},
   "source": [
    "--- Day 6: Tuning Trouble ---\n",
    "\n",
    "https://adventofcode.com/2022/day/6\n"
   ]
  },
  {
   "cell_type": "code",
   "execution_count": 35,
   "metadata": {},
   "outputs": [
    {
     "name": "stdout",
     "output_type": "stream",
     "text": [
      "answer: 1480\n"
     ]
    }
   ],
   "source": [
    "input = open('6.txt').read()\n",
    "\n",
    "\n",
    "def find_marker(num_of_characters):\n",
    "    last_four_chars = []\n",
    "    first_unique_index = 0\n",
    "\n",
    "    for i, char in enumerate(input):\n",
    "        last_four_chars.append(char)\n",
    "        if len(last_four_chars) > num_of_characters:\n",
    "            last_four_chars = last_four_chars[-num_of_characters:]\n",
    "\n",
    "        if len(last_four_chars) == num_of_characters:\n",
    "            has_duplicates = len(last_four_chars) != len(set(last_four_chars))\n",
    "\n",
    "            if not has_duplicates:\n",
    "                first_unique_index = i + 1\n",
    "                break\n",
    "\n",
    "    return first_unique_index\n",
    "\n",
    "\n",
    "print('answer:', find_marker(4))\n"
   ]
  },
  {
   "cell_type": "code",
   "execution_count": 36,
   "metadata": {},
   "outputs": [
    {
     "name": "stdout",
     "output_type": "stream",
     "text": [
      "answer: 2746\n"
     ]
    }
   ],
   "source": [
    "print('answer:', find_marker(14))"
   ]
  }
 ],
 "metadata": {
  "kernelspec": {
   "display_name": "Python 3",
   "language": "python",
   "name": "python3"
  },
  "language_info": {
   "codemirror_mode": {
    "name": "ipython",
    "version": 3
   },
   "file_extension": ".py",
   "mimetype": "text/x-python",
   "name": "python",
   "nbconvert_exporter": "python",
   "pygments_lexer": "ipython3",
   "version": "3.10.8"
  },
  "orig_nbformat": 4,
  "vscode": {
   "interpreter": {
    "hash": "b0fa6594d8f4cbf19f97940f81e996739fb7646882a419484c72d19e05852a7e"
   }
  }
 },
 "nbformat": 4,
 "nbformat_minor": 2
}
