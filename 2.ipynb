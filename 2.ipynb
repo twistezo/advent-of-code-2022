{
 "cells": [
  {
   "attachments": {},
   "cell_type": "markdown",
   "metadata": {},
   "source": [
    "--- Day 2: Rock Paper Scissors ---\n",
    "\n",
    "https://adventofcode.com/2022/day/2\n"
   ]
  },
  {
   "cell_type": "code",
   "execution_count": 33,
   "metadata": {},
   "outputs": [
    {
     "name": "stdout",
     "output_type": "stream",
     "text": [
      "answer: 10994\n"
     ]
    }
   ],
   "source": [
    "input = open('2.txt').read().split('\\n')\n",
    "\n",
    "# First column - opponent's moves\n",
    "# A - rock, B - paper, C - scissors\n",
    "\n",
    "# Second column - my best responses\n",
    "# X for rock, Y for paper, Z for scissors\n",
    "best_responses = {\"X\": \"Z\", \"Z\": \"Y\", \"Y\": \"X\"}\n",
    "strategy_guide = {\"A\": \"X\", \"B\": \"Y\", \"C\": \"Z\"}\n",
    "\n",
    "# Points\n",
    "# 0 - lost, 1 - rock, 2 - paper, 3 - scissors, 3 - draw, 6 - win\n",
    "points = {\"X\": 1, \"Y\": 2, \"Z\": 3}\n",
    "\n",
    "\n",
    "def calc_score(opponent, me):\n",
    "    score = 0\n",
    "    score += points[me]\n",
    "\n",
    "    if opponent == me:\n",
    "        score += 3\n",
    "    elif best_responses[me] == opponent:\n",
    "        score += 6\n",
    "\n",
    "    return score\n",
    "\n",
    "\n",
    "score = 0\n",
    "for turn in input:\n",
    "    opponent_encrypted, me = turn.split()\n",
    "    opponent = strategy_guide[opponent_encrypted]\n",
    "    score += calc_score(opponent, me)\n",
    "\n",
    "print(\"answer:\", score)\n"
   ]
  },
  {
   "cell_type": "code",
   "execution_count": 34,
   "metadata": {},
   "outputs": [
    {
     "name": "stdout",
     "output_type": "stream",
     "text": [
      "answer: 12526\n"
     ]
    }
   ],
   "source": [
    "worst_responses = dict((v, k) for k, v in best_responses.items())\n",
    "\n",
    "\n",
    "score = 0\n",
    "for turn in input:\n",
    "    opponent_encrypted, round_goal = turn.split()\n",
    "    opponent = strategy_guide[opponent_encrypted]\n",
    "\n",
    "    match round_goal:\n",
    "        case \"X\":\n",
    "            me = best_responses[opponent]\n",
    "        case \"Y\":\n",
    "            me = opponent\n",
    "        case \"Z\":\n",
    "            me = worst_responses[opponent]\n",
    "\n",
    "    score += calc_score(opponent, me)\n",
    "\n",
    "\n",
    "print(\"answer:\", score)\n"
   ]
  }
 ],
 "metadata": {
  "kernelspec": {
   "display_name": "Python 3",
   "language": "python",
   "name": "python3"
  },
  "language_info": {
   "codemirror_mode": {
    "name": "ipython",
    "version": 3
   },
   "file_extension": ".py",
   "mimetype": "text/x-python",
   "name": "python",
   "nbconvert_exporter": "python",
   "pygments_lexer": "ipython3",
   "version": "3.10.8"
  },
  "orig_nbformat": 4,
  "vscode": {
   "interpreter": {
    "hash": "b0fa6594d8f4cbf19f97940f81e996739fb7646882a419484c72d19e05852a7e"
   }
  }
 },
 "nbformat": 4,
 "nbformat_minor": 2
}
