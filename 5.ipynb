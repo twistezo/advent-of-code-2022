{
 "cells": [
  {
   "attachments": {},
   "cell_type": "markdown",
   "metadata": {},
   "source": [
    "--- Day 5: Supply Stacks ---\n",
    "\n",
    "https://adventofcode.com/2022/day/5\n"
   ]
  },
  {
   "cell_type": "code",
   "execution_count": 300,
   "metadata": {},
   "outputs": [
    {
     "name": "stdout",
     "output_type": "stream",
     "text": [
      "answer: FWSHSPJWM\n"
     ]
    }
   ],
   "source": [
    "import re\n",
    "\n",
    "input = open('5.txt').read().split('\\n')\n",
    "\n",
    "\n",
    "def get_moves(input):\n",
    "    moves = []\n",
    "    for line in input:\n",
    "        if line.startswith('move'):\n",
    "            move = list(\n",
    "                map(int, list(filter(None, re.split('move|from|to| ', line)))))\n",
    "            moves.append(move)\n",
    "    return moves\n",
    "\n",
    "\n",
    "def get_stacks(input):\n",
    "    num_of_stacks = 0\n",
    "    for line in input:\n",
    "        if line.startswith(' 1'):\n",
    "            num_of_stacks = list(map(int, (filter(None, line.split(' ')))))[-1]\n",
    "\n",
    "    crates_indexes = [1]\n",
    "    for x in range(1, num_of_stacks):\n",
    "        crates_indexes.append(crates_indexes[-1]+4)\n",
    "\n",
    "    stacks = [[] for _ in range(num_of_stacks)]\n",
    "    for line in input:\n",
    "        if line.startswith('[') or line.startswith('  '):\n",
    "            pure_line = [line[i] for i in crates_indexes]\n",
    "            for i, crate in enumerate(pure_line):\n",
    "                if not crate == ' ':\n",
    "                    stacks[i].append(crate)\n",
    "\n",
    "    return stacks\n",
    "\n",
    "\n",
    "def rearrange_stacks_9000(stacks, moves):\n",
    "    for move in moves:\n",
    "        quantity, from_, to = move\n",
    "        stack_to = stacks[to-1]\n",
    "        stack_from = stacks[from_-1]\n",
    "\n",
    "        [stack_to.insert(0, stack_from.pop(0)) for n in range(quantity)]\n",
    "\n",
    "\n",
    "def on_top_crates(stacks):\n",
    "    return ''.join([item[0] for item in stacks])\n",
    "\n",
    "\n",
    "stacks = get_stacks(input)\n",
    "moves = get_moves(input)\n",
    "\n",
    "rearrange_stacks_9000(stacks, moves)\n",
    "print('answer:', on_top_crates(stacks))\n"
   ]
  },
  {
   "cell_type": "code",
   "execution_count": 301,
   "metadata": {},
   "outputs": [
    {
     "name": "stdout",
     "output_type": "stream",
     "text": [
      "answer: PWPWHGFZS\n"
     ]
    }
   ],
   "source": [
    "stacks = get_stacks(input)\n",
    "\n",
    "\n",
    "def rearrange_stacks_9001(stacks, moves):\n",
    "    for move in moves:\n",
    "        quantity, from_, to = move\n",
    "        stack_to = stacks[to-1]\n",
    "        stack_from = stacks[from_-1]\n",
    "\n",
    "        stack_to[:0] = stack_from[0:quantity]\n",
    "        [stack_from.pop(0) for i in range(quantity)]\n",
    "\n",
    "\n",
    "rearrange_stacks_9001(stacks, moves)\n",
    "print('answer:', on_top_crates(stacks))\n"
   ]
  }
 ],
 "metadata": {
  "kernelspec": {
   "display_name": "Python 3",
   "language": "python",
   "name": "python3"
  },
  "language_info": {
   "codemirror_mode": {
    "name": "ipython",
    "version": 3
   },
   "file_extension": ".py",
   "mimetype": "text/x-python",
   "name": "python",
   "nbconvert_exporter": "python",
   "pygments_lexer": "ipython3",
   "version": "3.10.8 (main, Oct 21 2022, 22:22:30) [Clang 14.0.0 (clang-1400.0.29.202)]"
  },
  "orig_nbformat": 4,
  "vscode": {
   "interpreter": {
    "hash": "b0fa6594d8f4cbf19f97940f81e996739fb7646882a419484c72d19e05852a7e"
   }
  }
 },
 "nbformat": 4,
 "nbformat_minor": 2
}
